{
 "cells": [
  {
   "cell_type": "code",
   "execution_count": 1,
   "metadata": {},
   "outputs": [],
   "source": [
    "# imports\n",
    "import os\n",
    "\n",
    "import dask.dataframe as dd\n",
    "from dask.distributed import Client, LocalCluster\n",
    "import pandas as pd\n",
    "import numpy as np\n",
    "\n",
    "from utils import dtype_cic_ids2018"
   ]
  },
  {
   "cell_type": "code",
   "execution_count": 2,
   "metadata": {},
   "outputs": [],
   "source": [
    "dataset_part2: dd.DataFrame = dd.read_csv(os.path.join('..', '..', 'data','CSE-CIC-IDS-2018', 'raw_data', 'Tuesday-20-02-2018_TrafficForML_CICFlowMeter.csv'), dtype=dtype_cic_ids2018)\n",
    "dataset_part1: dd.DataFrame = dd.read_csv(os.path.join('..', '..', 'data','CSE-CIC-IDS-2018','raw_data', 'uniform_files', '*.csv'), dtype=dtype_cic_ids2018)\n",
    "\n",
    "extra_cols = dataset_part2.columns.difference(dataset_part1.columns)\n",
    "for col in extra_cols:\n",
    "    dataset_part1[col] = None\n",
    "dataset: dd.DataFrame = dd.concat([dataset_part1, dataset_part2])  # type: ignore\n"
   ]
  },
  {
   "cell_type": "code",
   "execution_count": 3,
   "metadata": {},
   "outputs": [],
   "source": [
    "# Loads already meta-labelled data (useful for relabelling)\n",
    "# dataset: dd.DataFrame = dd.read_csv(os.path.join('..', '..', 'data','CSE-CIC-IDS-2018', 'meta_labelled_data', '*.part'), dtype=dtype)"
   ]
  },
  {
   "cell_type": "code",
   "execution_count": 4,
   "metadata": {},
   "outputs": [],
   "source": [
    "dataset['Timestamp'] = dd.to_datetime(dataset['Timestamp'], dayfirst=True)\n",
    "\n",
    "def parse_date_time(part):  # datetime disambiguation\n",
    "    mask = part['Timestamp'].dt.hour < 8\n",
    "    part.loc[mask, 'Timestamp'] += pd.Timedelta(hours=12)\n",
    "    return part\n",
    "\n",
    "dataset = dataset.map_partitions(parse_date_time)"
   ]
  },
  {
   "cell_type": "code",
   "execution_count": 5,
   "metadata": {},
   "outputs": [],
   "source": [
    "# dataset['Label'].isna().any().compute()"
   ]
  },
  {
   "cell_type": "code",
   "execution_count": 6,
   "metadata": {},
   "outputs": [],
   "source": [
    "# attack labelling script\n",
    "\n",
    "# note: this csv was generated from the table provided by the authors at: https://www.unb.ca/cic/datasets/ids-2018.html\n",
    "attack_list: pd.DataFrame = pd.read_csv(os.path.join('..', '..', 'data','CSE-CIC-IDS-2018', 'attack_list.csv'))  \n",
    "attack_list['start datetime'] = pd.to_datetime(attack_list['Date'] + ' ' + attack_list['Attack Start Time'] + ':00', dayfirst=True)\n",
    "attack_list['end datetime'] = pd.to_datetime(attack_list['Date'] + ' ' + attack_list['Attack Finish Time'] + ':59', dayfirst=True)\n",
    "attack_list['Date'] = pd.to_datetime(attack_list['Date'], dayfirst=True).dt.date\n",
    "\n",
    "cat_list = pd.read_csv(os.path.join('..', '..', 'data','CSE-CIC-IDS-2018', 'category_list.csv'))\n",
    "cat_list = pd.Series(cat_list['Attack Category'].values, index=cat_list['Label'])\n",
    "\n",
    "dataset['attack name'] = 'Benign'\n",
    "dataset['attack category'] = 'Benign'\n",
    "def label_attacks(partition, add_categories=True):\n",
    "    for _, attack in attack_list.iterrows():\n",
    "        if attack['Label'] in ['Infilteration', 'Bot']:\n",
    "            is_correct_date = np.logical_and(attack['start datetime'] <= partition['Timestamp'], partition['Timestamp'] <= attack['end datetime'])  \n",
    "        else:\n",
    "            is_correct_date = attack['Date'] == partition['Timestamp'].dt.date\n",
    "        is_part_of_attack = np.logical_and(partition['Label'] == attack['Label'], is_correct_date)\n",
    "        partition.loc[is_part_of_attack, 'attack name'] = attack['Attack Name']  # attack label\n",
    "        \n",
    "        if add_categories:  # note: dask sends test data to this function so its important 'foo' is in category_list\n",
    "            partition['attack category'] = partition['Label'].map(cat_list)  # add category label\n",
    "        \n",
    "    partition.loc[(partition['Label'] != 'Benign') & (partition['attack name'] == 'Benign'), 'attack name'] = 'Unknown'\n",
    "    return partition\n",
    "\n",
    "# meta = {**dtype_cic_ids2018, **{'attack category': 'str', 'attack name': 'str', 'Timestamp': 'datetime64[ns]'}}\n",
    "meta_frame = dataset.partitions[0].copy()\n",
    "meta_frame['attack name'] = 'string'\n",
    "meta_frame['attack category'] = 'string'\n",
    "metalabelled_dataset: dd.DataFrame = dataset.map_partitions(label_attacks, meta=meta_frame) # type: ignore"
   ]
  },
  {
   "cell_type": "code",
   "execution_count": 7,
   "metadata": {},
   "outputs": [],
   "source": [
    "# code to convert to one file in case its ever necessary\n",
    "# dat2 = dd.read_csv(os.path.join('..', '..', 'data','CSE-CIC-IDS-2018', 'meta_labelled_data', '*.part'), dtype=dtype_cic_ids2018)\n",
    "# dat2.to_csv(os.path.join('..', '..', 'data', 'CSE-CIC-IDS-2018', 'meta_labelled_data2'), single_file=True, index=False)"
   ]
  },
  {
   "cell_type": "code",
   "execution_count": 8,
   "metadata": {},
   "outputs": [
    {
     "data": {
      "text/plain": [
       "['/home/calvin/FYP/data/CSE-CIC-IDS-2018/meta_labelled_data/000.part',\n",
       " '/home/calvin/FYP/data/CSE-CIC-IDS-2018/meta_labelled_data/001.part',\n",
       " '/home/calvin/FYP/data/CSE-CIC-IDS-2018/meta_labelled_data/002.part',\n",
       " '/home/calvin/FYP/data/CSE-CIC-IDS-2018/meta_labelled_data/003.part',\n",
       " '/home/calvin/FYP/data/CSE-CIC-IDS-2018/meta_labelled_data/004.part',\n",
       " '/home/calvin/FYP/data/CSE-CIC-IDS-2018/meta_labelled_data/005.part',\n",
       " '/home/calvin/FYP/data/CSE-CIC-IDS-2018/meta_labelled_data/006.part',\n",
       " '/home/calvin/FYP/data/CSE-CIC-IDS-2018/meta_labelled_data/007.part',\n",
       " '/home/calvin/FYP/data/CSE-CIC-IDS-2018/meta_labelled_data/008.part',\n",
       " '/home/calvin/FYP/data/CSE-CIC-IDS-2018/meta_labelled_data/009.part',\n",
       " '/home/calvin/FYP/data/CSE-CIC-IDS-2018/meta_labelled_data/010.part',\n",
       " '/home/calvin/FYP/data/CSE-CIC-IDS-2018/meta_labelled_data/011.part',\n",
       " '/home/calvin/FYP/data/CSE-CIC-IDS-2018/meta_labelled_data/012.part',\n",
       " '/home/calvin/FYP/data/CSE-CIC-IDS-2018/meta_labelled_data/013.part',\n",
       " '/home/calvin/FYP/data/CSE-CIC-IDS-2018/meta_labelled_data/014.part',\n",
       " '/home/calvin/FYP/data/CSE-CIC-IDS-2018/meta_labelled_data/015.part',\n",
       " '/home/calvin/FYP/data/CSE-CIC-IDS-2018/meta_labelled_data/016.part',\n",
       " '/home/calvin/FYP/data/CSE-CIC-IDS-2018/meta_labelled_data/017.part',\n",
       " '/home/calvin/FYP/data/CSE-CIC-IDS-2018/meta_labelled_data/018.part',\n",
       " '/home/calvin/FYP/data/CSE-CIC-IDS-2018/meta_labelled_data/019.part',\n",
       " '/home/calvin/FYP/data/CSE-CIC-IDS-2018/meta_labelled_data/020.part',\n",
       " '/home/calvin/FYP/data/CSE-CIC-IDS-2018/meta_labelled_data/021.part',\n",
       " '/home/calvin/FYP/data/CSE-CIC-IDS-2018/meta_labelled_data/022.part',\n",
       " '/home/calvin/FYP/data/CSE-CIC-IDS-2018/meta_labelled_data/023.part',\n",
       " '/home/calvin/FYP/data/CSE-CIC-IDS-2018/meta_labelled_data/024.part',\n",
       " '/home/calvin/FYP/data/CSE-CIC-IDS-2018/meta_labelled_data/025.part',\n",
       " '/home/calvin/FYP/data/CSE-CIC-IDS-2018/meta_labelled_data/026.part',\n",
       " '/home/calvin/FYP/data/CSE-CIC-IDS-2018/meta_labelled_data/027.part',\n",
       " '/home/calvin/FYP/data/CSE-CIC-IDS-2018/meta_labelled_data/028.part',\n",
       " '/home/calvin/FYP/data/CSE-CIC-IDS-2018/meta_labelled_data/029.part',\n",
       " '/home/calvin/FYP/data/CSE-CIC-IDS-2018/meta_labelled_data/030.part',\n",
       " '/home/calvin/FYP/data/CSE-CIC-IDS-2018/meta_labelled_data/031.part',\n",
       " '/home/calvin/FYP/data/CSE-CIC-IDS-2018/meta_labelled_data/032.part',\n",
       " '/home/calvin/FYP/data/CSE-CIC-IDS-2018/meta_labelled_data/033.part',\n",
       " '/home/calvin/FYP/data/CSE-CIC-IDS-2018/meta_labelled_data/034.part',\n",
       " '/home/calvin/FYP/data/CSE-CIC-IDS-2018/meta_labelled_data/035.part',\n",
       " '/home/calvin/FYP/data/CSE-CIC-IDS-2018/meta_labelled_data/036.part',\n",
       " '/home/calvin/FYP/data/CSE-CIC-IDS-2018/meta_labelled_data/037.part',\n",
       " '/home/calvin/FYP/data/CSE-CIC-IDS-2018/meta_labelled_data/038.part',\n",
       " '/home/calvin/FYP/data/CSE-CIC-IDS-2018/meta_labelled_data/039.part',\n",
       " '/home/calvin/FYP/data/CSE-CIC-IDS-2018/meta_labelled_data/040.part',\n",
       " '/home/calvin/FYP/data/CSE-CIC-IDS-2018/meta_labelled_data/041.part',\n",
       " '/home/calvin/FYP/data/CSE-CIC-IDS-2018/meta_labelled_data/042.part',\n",
       " '/home/calvin/FYP/data/CSE-CIC-IDS-2018/meta_labelled_data/043.part',\n",
       " '/home/calvin/FYP/data/CSE-CIC-IDS-2018/meta_labelled_data/044.part',\n",
       " '/home/calvin/FYP/data/CSE-CIC-IDS-2018/meta_labelled_data/045.part',\n",
       " '/home/calvin/FYP/data/CSE-CIC-IDS-2018/meta_labelled_data/046.part',\n",
       " '/home/calvin/FYP/data/CSE-CIC-IDS-2018/meta_labelled_data/047.part',\n",
       " '/home/calvin/FYP/data/CSE-CIC-IDS-2018/meta_labelled_data/048.part',\n",
       " '/home/calvin/FYP/data/CSE-CIC-IDS-2018/meta_labelled_data/049.part',\n",
       " '/home/calvin/FYP/data/CSE-CIC-IDS-2018/meta_labelled_data/050.part',\n",
       " '/home/calvin/FYP/data/CSE-CIC-IDS-2018/meta_labelled_data/051.part',\n",
       " '/home/calvin/FYP/data/CSE-CIC-IDS-2018/meta_labelled_data/052.part',\n",
       " '/home/calvin/FYP/data/CSE-CIC-IDS-2018/meta_labelled_data/053.part',\n",
       " '/home/calvin/FYP/data/CSE-CIC-IDS-2018/meta_labelled_data/054.part',\n",
       " '/home/calvin/FYP/data/CSE-CIC-IDS-2018/meta_labelled_data/055.part',\n",
       " '/home/calvin/FYP/data/CSE-CIC-IDS-2018/meta_labelled_data/056.part',\n",
       " '/home/calvin/FYP/data/CSE-CIC-IDS-2018/meta_labelled_data/057.part',\n",
       " '/home/calvin/FYP/data/CSE-CIC-IDS-2018/meta_labelled_data/058.part',\n",
       " '/home/calvin/FYP/data/CSE-CIC-IDS-2018/meta_labelled_data/059.part',\n",
       " '/home/calvin/FYP/data/CSE-CIC-IDS-2018/meta_labelled_data/060.part',\n",
       " '/home/calvin/FYP/data/CSE-CIC-IDS-2018/meta_labelled_data/061.part',\n",
       " '/home/calvin/FYP/data/CSE-CIC-IDS-2018/meta_labelled_data/062.part',\n",
       " '/home/calvin/FYP/data/CSE-CIC-IDS-2018/meta_labelled_data/063.part',\n",
       " '/home/calvin/FYP/data/CSE-CIC-IDS-2018/meta_labelled_data/064.part',\n",
       " '/home/calvin/FYP/data/CSE-CIC-IDS-2018/meta_labelled_data/065.part',\n",
       " '/home/calvin/FYP/data/CSE-CIC-IDS-2018/meta_labelled_data/066.part',\n",
       " '/home/calvin/FYP/data/CSE-CIC-IDS-2018/meta_labelled_data/067.part',\n",
       " '/home/calvin/FYP/data/CSE-CIC-IDS-2018/meta_labelled_data/068.part',\n",
       " '/home/calvin/FYP/data/CSE-CIC-IDS-2018/meta_labelled_data/069.part',\n",
       " '/home/calvin/FYP/data/CSE-CIC-IDS-2018/meta_labelled_data/070.part',\n",
       " '/home/calvin/FYP/data/CSE-CIC-IDS-2018/meta_labelled_data/071.part',\n",
       " '/home/calvin/FYP/data/CSE-CIC-IDS-2018/meta_labelled_data/072.part',\n",
       " '/home/calvin/FYP/data/CSE-CIC-IDS-2018/meta_labelled_data/073.part',\n",
       " '/home/calvin/FYP/data/CSE-CIC-IDS-2018/meta_labelled_data/074.part',\n",
       " '/home/calvin/FYP/data/CSE-CIC-IDS-2018/meta_labelled_data/075.part',\n",
       " '/home/calvin/FYP/data/CSE-CIC-IDS-2018/meta_labelled_data/076.part',\n",
       " '/home/calvin/FYP/data/CSE-CIC-IDS-2018/meta_labelled_data/077.part',\n",
       " '/home/calvin/FYP/data/CSE-CIC-IDS-2018/meta_labelled_data/078.part',\n",
       " '/home/calvin/FYP/data/CSE-CIC-IDS-2018/meta_labelled_data/079.part',\n",
       " '/home/calvin/FYP/data/CSE-CIC-IDS-2018/meta_labelled_data/080.part',\n",
       " '/home/calvin/FYP/data/CSE-CIC-IDS-2018/meta_labelled_data/081.part',\n",
       " '/home/calvin/FYP/data/CSE-CIC-IDS-2018/meta_labelled_data/082.part',\n",
       " '/home/calvin/FYP/data/CSE-CIC-IDS-2018/meta_labelled_data/083.part',\n",
       " '/home/calvin/FYP/data/CSE-CIC-IDS-2018/meta_labelled_data/084.part',\n",
       " '/home/calvin/FYP/data/CSE-CIC-IDS-2018/meta_labelled_data/085.part',\n",
       " '/home/calvin/FYP/data/CSE-CIC-IDS-2018/meta_labelled_data/086.part',\n",
       " '/home/calvin/FYP/data/CSE-CIC-IDS-2018/meta_labelled_data/087.part',\n",
       " '/home/calvin/FYP/data/CSE-CIC-IDS-2018/meta_labelled_data/088.part',\n",
       " '/home/calvin/FYP/data/CSE-CIC-IDS-2018/meta_labelled_data/089.part',\n",
       " '/home/calvin/FYP/data/CSE-CIC-IDS-2018/meta_labelled_data/090.part',\n",
       " '/home/calvin/FYP/data/CSE-CIC-IDS-2018/meta_labelled_data/091.part',\n",
       " '/home/calvin/FYP/data/CSE-CIC-IDS-2018/meta_labelled_data/092.part',\n",
       " '/home/calvin/FYP/data/CSE-CIC-IDS-2018/meta_labelled_data/093.part',\n",
       " '/home/calvin/FYP/data/CSE-CIC-IDS-2018/meta_labelled_data/094.part',\n",
       " '/home/calvin/FYP/data/CSE-CIC-IDS-2018/meta_labelled_data/095.part',\n",
       " '/home/calvin/FYP/data/CSE-CIC-IDS-2018/meta_labelled_data/096.part',\n",
       " '/home/calvin/FYP/data/CSE-CIC-IDS-2018/meta_labelled_data/097.part',\n",
       " '/home/calvin/FYP/data/CSE-CIC-IDS-2018/meta_labelled_data/098.part',\n",
       " '/home/calvin/FYP/data/CSE-CIC-IDS-2018/meta_labelled_data/099.part',\n",
       " '/home/calvin/FYP/data/CSE-CIC-IDS-2018/meta_labelled_data/100.part',\n",
       " '/home/calvin/FYP/data/CSE-CIC-IDS-2018/meta_labelled_data/101.part']"
      ]
     },
     "execution_count": 8,
     "metadata": {},
     "output_type": "execute_result"
    }
   ],
   "source": [
    "metalabelled_dataset.to_csv(os.path.join('..', '..', 'data', 'CSE-CIC-IDS-2018', 'meta_labelled_data'), single_file=False, index=False)"
   ]
  }
 ],
 "metadata": {
  "kernelspec": {
   "display_name": "venv",
   "language": "python",
   "name": "python3"
  },
  "language_info": {
   "codemirror_mode": {
    "name": "ipython",
    "version": 3
   },
   "file_extension": ".py",
   "mimetype": "text/x-python",
   "name": "python",
   "nbconvert_exporter": "python",
   "pygments_lexer": "ipython3",
   "version": "3.11.0"
  }
 },
 "nbformat": 4,
 "nbformat_minor": 2
}
