{
 "cells": [
  {
   "cell_type": "code",
   "execution_count": null,
   "metadata": {},
   "outputs": [],
   "source": [
    "# imports\n",
    "import os\n",
    "\n",
    "from dask.distributed import Client, LocalCluster\n",
    "import dask.dataframe as dd\n",
    "\n",
    "from utils import dtype"
   ]
  },
  {
   "cell_type": "code",
   "execution_count": null,
   "metadata": {},
   "outputs": [],
   "source": [
    "# cluster setup\n",
    "cluster = LocalCluster(n_workers=os.cpu_count())\n",
    "client = Client(cluster)"
   ]
  },
  {
   "cell_type": "code",
   "execution_count": null,
   "metadata": {},
   "outputs": [],
   "source": [
    "# load dataset\n",
    "dataset: dd.DataFrame = dd.read_csv(os.path.join('..', '..', 'data', 'meta_labelled_data', '*.part'), dtype=dtype)\n",
    "dataset['Timestamp'] = dd.to_datetime(dataset['Timestamp'], dayfirst=True)"
   ]
  },
  {
   "cell_type": "code",
   "execution_count": null,
   "metadata": {},
   "outputs": [],
   "source": [
    "type_exc = [dataset[dataset['Label'] != a_type]for a_type in dataset['Label'].unique()]\n",
    "attack_exc = [dataset[dataset['attack name'] != a_name]for a_name in dataset['attack name'].unique()]\n",
    "type_inc = [dataset[dataset['Label'] == a_type]for a_type in dataset['Label'].unique()]\n",
    "attack_inc = [dataset[dataset['Label'] == a_name]for a_name in dataset['attack name'].unique()]\n",
    "\n",
    "# TODO: This part depends heavily on how the reproduced ML models turn out\n",
    "# for each model:\n",
    "#  train the model on each subset in the lists above\n",
    "#  evaluate the model on the whole dataset\n",
    "#  parse the per attack and per category performance into a heat map"
   ]
  }
 ],
 "metadata": {
  "kernelspec": {
   "display_name": "venv",
   "language": "python",
   "name": "python3"
  },
  "language_info": {
   "name": "python",
   "version": "3.12.0"
  }
 },
 "nbformat": 4,
 "nbformat_minor": 2
}
